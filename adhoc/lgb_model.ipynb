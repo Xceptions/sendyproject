{
 "cells": [
  {
   "cell_type": "code",
   "execution_count": 1,
   "metadata": {},
   "outputs": [],
   "source": [
    "\"\"\"\n",
    "runtime: variable that will help during saving of models and predictions.\n",
    "This is so that I would not overwrite saved models and predictions with every new run\n",
    "\n",
    "Each run saves 3 files:\n",
    "- lgb_models_v{runtime}.pkl\n",
    "- lgb_output_train_{runtime}.csv\n",
    "- lgb_output_test_{runtime}.csv\n",
    "\"\"\"\n",
    "runtime = 16"
   ]
  },
  {
   "cell_type": "code",
   "execution_count": 2,
   "metadata": {},
   "outputs": [],
   "source": [
    "import numpy as np\n",
    "import pandas as pd\n",
    "from sklearn.model_selection import KFold\n",
    "import lightgbm as lgb\n",
    "from lofo import LOFOImportance, plot_importance\n",
    "import matplotlib.pyplot as plt\n",
    "import seaborn as sns\n",
    "%matplotlib inline\n",
    "\n",
    "import gc\n",
    "import pickle\n",
    "\n",
    "import warnings\n",
    "warnings.filterwarnings(\"ignore\")"
   ]
  },
  {
   "cell_type": "code",
   "execution_count": 3,
   "metadata": {},
   "outputs": [],
   "source": [
    "to_parse = ['Placement - Time', 'Confirmation - Time', 'Pickup - Time']\n",
    "\n",
    "df_train = pd.read_csv('../data/df_train.csv', parse_dates=to_parse)\n",
    "df_test = pd.read_csv('../data/df_test.csv', parse_dates=to_parse)\n",
    "\n",
    "# initialize test set columns that are in train set but not test set\n",
    "df_test['Time from Pickup to Arrival'] = np.zeros(df_test.shape[0])\n",
    "df_test['Arrival at Destination - Day of Month'] = np.zeros(df_test.shape[0])\n",
    "df_test['Arrival at Destination - Time'] = np.zeros(df_test.shape[0])\n",
    "df_test['Arrival at Destination - Weekday (Mo = 1)'] = np.zeros(df_test.shape[0])"
   ]
  },
  {
   "cell_type": "markdown",
   "metadata": {},
   "source": [
    "Feature Engineering"
   ]
  },
  {
   "cell_type": "code",
   "execution_count": 4,
   "metadata": {},
   "outputs": [],
   "source": [
    "# first create a feature that is particular to train\n",
    "df_train['Speed'] = df_train['Distance (KM)'] / df_train['Time from Pickup to Arrival']\n",
    "df_test['Speed'] = np.zeros(df_test.shape[0])\n",
    "\n",
    "map_P_or_B = {'Personal': 0, 'Business': 1}\n",
    "def map_personal_or_business(df):\n",
    "    df['Personal or Business'] = df['Personal or Business'].map(map_P_or_B)\n",
    "    return df\n",
    "\n",
    "def convert_to_24hr(df):\n",
    "    df['Placement - Time'] = df['Placement - Time'].apply(lambda x: x.strftime('%H:%M:%S'))\n",
    "    df['Confirmation - Time'] = df['Confirmation - Time'].apply(lambda x: x.strftime('%H:%M:%S'))\n",
    "    df['Pickup - Time'] = df['Pickup - Time'].apply(lambda x: x.strftime('%H:%M:%S'))\n",
    "    return df\n",
    "\n",
    "def split_time(df):\n",
    "    df['placement_hour'] = df['Placement - Time'].dt.hour\n",
    "    df['confirmation_hour'] = df['Confirmation - Time'].dt.hour\n",
    "    return df\n",
    "\n",
    "\"\"\"\n",
    "Missing data in weather columns will be filled by world average\n",
    "\"\"\"\n",
    "def fill_weather_nan(df):\n",
    "    df['Temperature'] = df['Temperature'].fillna(22.4)\n",
    "    return df\n",
    "\n",
    "\"\"\"\n",
    "Calculate the displacement from the pick up to the destination\n",
    "\"\"\"\n",
    "def calc_displacement_fromLatLonInKm(df):\n",
    "    lat1 = df['Pickup Lat']\n",
    "    lon1 = df['Pickup Long']\n",
    "    lat2 = df['Destination Lat']\n",
    "    lon2 = df['Destination Long']\n",
    "    R = 6371 # radius of the earth in km\n",
    "    dLat = np.radians(lat2-lat1)\n",
    "    dLon = np.radians(lon2-lon1)\n",
    "    \n",
    "    a = (np.sin(dLat/2))** 2 + np.cos(np.radians(lat1)) * np.cos(np.radians(lat2)) * (np.sin(dLon/2))**2\n",
    "    c = 2 * np.arcsin(np.sqrt(a))\n",
    "    df['Displacement'] = R * c\n",
    "    return df\n",
    "\n",
    "def ratings_weight(df):\n",
    "    df['ratings_weight'] = df['Average_Rating'] * df['No_of_Ratings']\n",
    "    return df\n",
    "\n",
    "def add_dist_feats(df):\n",
    "    df['dist_diff'] = (df['Distance (KM)']**2) - (df['Displacement']**2)\n",
    "    return df\n",
    "\n",
    "def add_angle_feats(df):\n",
    "    df['sin_angle'] = np.sin(df['Displacement'] / df['Distance (KM)'])\n",
    "    df['cos_angle'] = np.cos(df['Displacement'] / df['Distance (KM)'])\n",
    "    df['tan_angle'] = np.tan(df['Displacement'] / df['Distance (KM)'])\n",
    "    return df\n",
    "\n",
    "\n",
    "rider_group = df_train.groupby('Rider Id')\n",
    "rider_stat_mean = rider_group['Time from Pickup to Arrival'].mean().astype(np.float16)\n",
    "rider_stat_median= rider_group['Time from Pickup to Arrival'].median().astype(np.float16)\n",
    "rider_stat_min = rider_group['Time from Pickup to Arrival'].min().astype(np.float16)\n",
    "rider_stat_max = rider_group['Time from Pickup to Arrival'].max().astype(np.float16)\n",
    "rider_stat_std = rider_group['Time from Pickup to Arrival'].std().astype(np.float16)\n",
    "rider_stat_count = rider_group['Time from Pickup to Arrival'].count().astype(np.float16)\n",
    "\n",
    "rider_speed_mean = rider_group['Speed'].mean().astype(np.float16)\n",
    "rider_speed_median= rider_group['Speed'].median().astype(np.float16)\n",
    "rider_speed_min = rider_group['Speed'].min().astype(np.float16)\n",
    "rider_speed_max = rider_group['Speed'].max().astype(np.float16)\n",
    "rider_speed_std = rider_group['Speed'].std().astype(np.float16)\n",
    "rider_speed_count = rider_group['Speed'].count().astype(np.float16)\n",
    "\n",
    "def generate_rider_stats(df):\n",
    "    df['rider_stat_mean'] = df['Rider Id'].map(rider_stat_mean)\n",
    "    df['rider_stat_median'] = df['Rider Id'].map(rider_stat_median)\n",
    "    df['rider_stat_min'] = df['Rider Id'].map(rider_stat_min)\n",
    "    df['rider_stat_max'] = df['Rider Id'].map(rider_stat_max)\n",
    "    df['rider_stat_std'] = df['Rider Id'].map(rider_stat_std)\n",
    "    df['rider_stat_count'] = df['Rider Id'].map(rider_stat_count)\n",
    "    df['rider_speed_mean'] = df['Rider Id'].map(rider_speed_mean)\n",
    "    df['rider_speed_median'] = df['Rider Id'].map(rider_speed_median)\n",
    "    df['rider_speed_min'] = df['Rider Id'].map(rider_speed_min)\n",
    "    df['rider_speed_max'] = df['Rider Id'].map(rider_speed_max)\n",
    "    df['rider_speed_std'] = df['Rider Id'].map(rider_speed_std)\n",
    "    df['rider_speed_count'] = df['Rider Id'].map(rider_speed_count)\n",
    "    return df\n",
    "\n",
    "def fill_stat_nan(df):\n",
    "    df['rider_stat_mean'] = df['rider_stat_mean'].fillna(-100)\n",
    "    df['rider_stat_median'] = df['rider_stat_median'].fillna(-200)\n",
    "    df['rider_stat_min'] = df['rider_stat_min'].fillna(-300)\n",
    "    df['rider_stat_max'] = df['rider_stat_max'].fillna(-400)\n",
    "    df['rider_stat_std'] = df['rider_stat_std'].fillna(-500)\n",
    "    df['rider_stat_count'] = df['rider_stat_count'].fillna(-600)\n",
    "    df['rider_speed_mean'] = df['rider_stat_mean'].fillna(-150)\n",
    "    df['rider_speed_median'] = df['rider_stat_median'].fillna(-250)\n",
    "    df['rider_speed_min'] = df['rider_stat_min'].fillna(-350)\n",
    "    df['rider_speed_max'] = df['rider_stat_max'].fillna(-450)\n",
    "    df['rider_speed_std'] = df['rider_stat_std'].fillna(-550)\n",
    "    df['rider_speed_count'] = df['rider_stat_count'].fillna(-650)\n",
    "    return df"
   ]
  },
  {
   "cell_type": "code",
   "execution_count": 5,
   "metadata": {
    "scrolled": true
   },
   "outputs": [],
   "source": [
    "\"\"\"\n",
    "Apply these engineering to the train and test sets\n",
    "\"\"\"\n",
    "\n",
    "df_train = split_time(df_train)\n",
    "df_train = map_personal_or_business(df_train)\n",
    "df_train = convert_to_24hr(df_train)\n",
    "df_train = fill_weather_nan(df_train)\n",
    "df_train = calc_displacement_fromLatLonInKm(df_train)\n",
    "df_train = ratings_weight(df_train)\n",
    "df_train = add_dist_feats(df_train)\n",
    "df_train = generate_rider_stats(df_train)\n",
    "df_train = fill_stat_nan(df_train)\n",
    "\n",
    "df_test = split_time(df_test )\n",
    "df_test = map_personal_or_business(df_test)\n",
    "df_test = convert_to_24hr(df_test)\n",
    "df_test = fill_weather_nan(df_test)\n",
    "df_test = calc_displacement_fromLatLonInKm(df_test)\n",
    "df_test = ratings_weight(df_test)\n",
    "df_test = add_dist_feats(df_test)\n",
    "df_test = generate_rider_stats(df_test)\n",
    "df_test = fill_stat_nan(df_test)\n"
   ]
  },
  {
   "cell_type": "markdown",
   "metadata": {},
   "source": [
    "Level 2 feature engineering"
   ]
  },
  {
   "cell_type": "code",
   "execution_count": 6,
   "metadata": {},
   "outputs": [],
   "source": [
    "df_train['velocity'] = df_train['Displacement'] / df_train['Time from Pickup to Arrival']\n",
    "df_test['velocity'] = np.zeros(df_test.shape[0])\n",
    "rider_group = df_train.groupby('Rider Id')\n",
    "\n",
    "rider_velocity_mean = rider_group['velocity'].mean().astype(np.float16)\n",
    "rider_velocity_median= rider_group['velocity'].median().astype(np.float16)\n",
    "rider_velocity_min = rider_group['velocity'].min().astype(np.float16)\n",
    "rider_velocity_max = rider_group['velocity'].max().astype(np.float16)\n",
    "rider_velocity_std = rider_group['velocity'].std().astype(np.float16)\n",
    "rider_velocity_count = rider_group['velocity'].count().astype(np.float16)\n",
    "\n",
    "def generate_rider_stats(df):\n",
    "    df['rider_velocity_mean'] = df['Rider Id'].map(rider_velocity_mean)\n",
    "    df['rider_velocity_median'] = df['Rider Id'].map(rider_velocity_median)\n",
    "    df['rider_velocity_min'] = df['Rider Id'].map(rider_velocity_min)\n",
    "    df['rider_velocity_max'] = df['Rider Id'].map(rider_velocity_max)\n",
    "    df['rider_velocity_std'] = df['Rider Id'].map(rider_velocity_std)\n",
    "    df['rider_velocity_count'] = df['Rider Id'].map(rider_velocity_count)\n",
    "    return df\n",
    "\n",
    "def fill_stat_nan(df):\n",
    "    df['rider_velocity_mean'] = df['rider_velocity_mean'].fillna(-1150)\n",
    "    df['rider_velocity_median'] = df['rider_velocity_median'].fillna(-1250)\n",
    "    df['rider_velocity_min'] = df['rider_velocity_min'].fillna(-1350)\n",
    "    df['rider_velocity_max'] = df['rider_velocity_max'].fillna(-1450)\n",
    "    df['rider_velocity_std'] = df['rider_velocity_std'].fillna(-1550)\n",
    "    df['rider_velocity_count'] = df['rider_velocity_count'].fillna(-1650)\n",
    "    return df"
   ]
  },
  {
   "cell_type": "code",
   "execution_count": 7,
   "metadata": {},
   "outputs": [],
   "source": [
    "to_drop = [\n",
    "           'Vehicle Type',\n",
    "           'User Id',\n",
    "           'Arrival at Pickup - Day of Month',\n",
    "           'Arrival at Pickup - Weekday (Mo = 1)',\n",
    "           'Arrival at Pickup - Time',\n",
    "           'Precipitation in millimeters',\n",
    "           'Rider Id',\n",
    "           'Arrival at Destination - Day of Month',\n",
    "           'Arrival at Destination - Time',\n",
    "           'Arrival at Destination - Weekday (Mo = 1)',\n",
    "           'Placement - Day of Month',\n",
    "           'Placement - Weekday (Mo = 1)',\n",
    "           'Placement - Time',\n",
    "           'Pickup - Time',\n",
    "           'Confirmation - Day of Month',\n",
    "           'Confirmation - Weekday (Mo = 1)',\n",
    "           'Confirmation - Time',\n",
    "           'Speed',\n",
    "           'velocity']"
   ]
  },
  {
   "cell_type": "code",
   "execution_count": 8,
   "metadata": {},
   "outputs": [],
   "source": [
    "df_train = df_train.drop(to_drop, axis='columns')\n",
    "df_test = df_test.drop(to_drop, axis='columns')"
   ]
  },
  {
   "cell_type": "code",
   "execution_count": 9,
   "metadata": {},
   "outputs": [
    {
     "name": "stdout",
     "output_type": "stream",
     "text": [
      "Train set shape is (21201, 34)\n",
      "Test set shape is (7068, 34)\n"
     ]
    }
   ],
   "source": [
    "print(f\"Train set shape is {df_train.shape}\")\n",
    "print(f\"Test set shape is {df_test.shape}\")"
   ]
  },
  {
   "cell_type": "code",
   "execution_count": 10,
   "metadata": {},
   "outputs": [],
   "source": [
    "# target = \"Time from Pickup to Arrival\"\n",
    "# features = [col for col in df_train.columns if col != target]\n",
    "\n",
    "category_cols = ['Personal or Business', 'Pickup - Day of Month']"
   ]
  },
  {
   "cell_type": "code",
   "execution_count": 11,
   "metadata": {},
   "outputs": [],
   "source": [
    "# sample_df = df_train.sample(frac=0.1, random_state=0)\n",
    "# sample_df.sort_values(\"AvSigVersion\", inplace=True)"
   ]
  },
  {
   "cell_type": "code",
   "execution_count": 12,
   "metadata": {},
   "outputs": [],
   "source": [
    "# cv = KFold(n_splits=4, shuffle=False, random_state=0)\n",
    "\n",
    "# # define the validation scheme and scorer. The default model is LightGBM\n",
    "# lofo_imp = LOFOImportance(sample_df, features, target, cv=cv)\n",
    "\n",
    "# # get the mean and standard deviation of the importances in pandas format\n",
    "# importance_df = lofo_imp.get_importance()\n",
    "\n",
    "# # plot the means and standard deviations of the importances\n",
    "# plot_importance(importance_df, figsize=(12, 20))"
   ]
  },
  {
   "cell_type": "markdown",
   "metadata": {},
   "source": [
    "### Training the model\n",
    "\n",
    "Predictions will be made based on platform type. This is done because the distribution of the predictions are different when it comes to platfrom type 4. The trainings will output a pickle file that contains 4 models. These models contribute a their fair quarter to making predictions on the test"
   ]
  },
  {
   "cell_type": "code",
   "execution_count": 13,
   "metadata": {},
   "outputs": [],
   "source": [
    "def fetch_train_data_batch(data, platform_type):\n",
    "    to_train = data.loc[data['Platform Type'] == platform_type]\n",
    "    to_train_target = to_train['Time from Pickup to Arrival'].values\n",
    "    to_train_data = to_train.drop(['Order No', 'Time from Pickup to Arrival', 'Unnamed: 0', 'Platform Type'], axis='columns')\n",
    "    del to_train\n",
    "    gc.collect()\n",
    "    return to_train_data, to_train_target\n",
    "\n",
    "def fetch_test_data_batch(test_data, platform_type):\n",
    "    to_test_data = test_data.loc[test_data['Platform Type'] == platform_type]\n",
    "    return to_test_data"
   ]
  },
  {
   "cell_type": "code",
   "execution_count": 14,
   "metadata": {},
   "outputs": [],
   "source": [
    "def fit_lgbm(train, val, devices=(-1), seed=None, cat_features=None, num_rounds=1500, lr=0.05, bf=0.1):\n",
    "    \"\"\"Function to train the Light GBM model\"\"\"\n",
    "    X_tt, y_tt = train\n",
    "    X_vl, y_vl = val\n",
    "    params = {\n",
    "        'objective':'regression',\n",
    "        'boosting_type':'gbdt',\n",
    "        'learning_rate':lr,\n",
    "        'num_leaves': 2**8,\n",
    "        'max_depth':20,\n",
    "        'n_estimators':5000,\n",
    "        'max_bin':255,\n",
    "        'num_leaves': 20,\n",
    "        'reg_alpha': 0.1,\n",
    "        'reg_lambda': 0.3,\n",
    "        'verbose':-1,\n",
    "        'seed': 42,\n",
    "        \"bagging_freq\": 5,\n",
    "        \"bagging_fraction\": bf,\n",
    "        \"feature_fraction\": 0.9,\n",
    "        \"metric\": 'rmse',\n",
    "        'early_stopping_rounds':100\n",
    "    }\n",
    "    device = devices\n",
    "    if device == -1:\n",
    "        pass # use cpu\n",
    "    else:\n",
    "        print(f\"using gpu {device}...\") # use gpu\n",
    "        params.update({'device': 'gpu', 'gpu_device_id': device})\n",
    "    params[\"seed\"] = seed\n",
    "    d_train = lgb.Dataset(X_tt, label=y_tt, categorical_feature=cat_features)\n",
    "    d_valid = lgb.Dataset(X_vl, label=y_vl, categorical_feature=cat_features)\n",
    "    watchlist = [d_train, d_valid]\n",
    "    print(\"training LGB: \")\n",
    "    model = lgb.train(params,\n",
    "                      train_set=d_train,\n",
    "                      num_boost_round=num_rounds,\n",
    "                      valid_sets=watchlist,\n",
    "                      verbose_eval=100)\n",
    "    print(\"best score\", model.best_score)\n",
    "    return model"
   ]
  },
  {
   "cell_type": "code",
   "execution_count": 15,
   "metadata": {},
   "outputs": [
    {
     "name": "stdout",
     "output_type": "stream",
     "text": [
      "Training for platform type : 1 on dataset with 30 features\n",
      "Training:  1610  and validating:  537\n",
      "training LGB: \n",
      "Training until validation scores don't improve for 100 rounds\n",
      "[100]\ttraining's rmse: 442.245\tvalid_1's rmse: 686.077\n",
      "Early stopping, best iteration is:\n",
      "[53]\ttraining's rmse: 533.22\tvalid_1's rmse: 679.424\n",
      "best score defaultdict(<class 'collections.OrderedDict'>, {'training': OrderedDict([('rmse', 533.2195424779133)]), 'valid_1': OrderedDict([('rmse', 679.4237919995641)])})\n",
      "Training:  1610  and validating:  537\n",
      "training LGB: \n",
      "Training until validation scores don't improve for 100 rounds\n",
      "[100]\ttraining's rmse: 450.851\tvalid_1's rmse: 655.153\n",
      "Early stopping, best iteration is:\n",
      "[50]\ttraining's rmse: 544.8\tvalid_1's rmse: 647.945\n",
      "best score defaultdict(<class 'collections.OrderedDict'>, {'training': OrderedDict([('rmse', 544.7998250005708)]), 'valid_1': OrderedDict([('rmse', 647.9447815831523)])})\n",
      "Training:  1610  and validating:  537\n",
      "training LGB: \n",
      "Training until validation scores don't improve for 100 rounds\n",
      "[100]\ttraining's rmse: 452.574\tvalid_1's rmse: 633.035\n",
      "Early stopping, best iteration is:\n",
      "[41]\ttraining's rmse: 570.896\tvalid_1's rmse: 628.459\n",
      "best score defaultdict(<class 'collections.OrderedDict'>, {'training': OrderedDict([('rmse', 570.8964415646864)]), 'valid_1': OrderedDict([('rmse', 628.4590801762159)])})\n",
      "Training:  1611  and validating:  536\n",
      "training LGB: \n",
      "Training until validation scores don't improve for 100 rounds\n",
      "[100]\ttraining's rmse: 426.374\tvalid_1's rmse: 754.42\n",
      "Early stopping, best iteration is:\n",
      "[50]\ttraining's rmse: 517.667\tvalid_1's rmse: 750.006\n",
      "best score defaultdict(<class 'collections.OrderedDict'>, {'training': OrderedDict([('rmse', 517.6670236711877)]), 'valid_1': OrderedDict([('rmse', 750.0059980392134)])})\n",
      "training has ended\n"
     ]
    },
    {
     "data": {
      "text/plain": [
       "0"
      ]
     },
     "execution_count": 15,
     "metadata": {},
     "output_type": "execute_result"
    }
   ],
   "source": [
    "\"\"\"\n",
    "Training will be done per platform type\n",
    "\"\"\"\n",
    "platform_type = 1\n",
    "models1 = []\n",
    "\n",
    "X_train, y_train = fetch_train_data_batch(df_train, platform_type)\n",
    "gc.collect()\n",
    "print(f\"Training for platform type : {platform_type} on dataset with {X_train.shape[1]} features\")\n",
    "\n",
    "cat_features = [X_train.columns.get_loc(cat_col) for cat_col in category_cols]\n",
    "kfcv = KFold(n_splits=4)\n",
    "\n",
    "for train_idx, val_idx in kfcv.split(X_train):\n",
    "    train_data = X_train.iloc[train_idx], y_train[train_idx]\n",
    "    val_data = X_train.iloc[val_idx], y_train[val_idx]\n",
    "    print(\"Training: \", len(train_idx), \" and validating: \", len(val_idx))\n",
    "    model = fit_lgbm(train_data,val_data,cat_features=category_cols,num_rounds=1000,lr=0.05,bf=0.7)\n",
    "    models1.append(model)\n",
    "    gc.collect()\n",
    "print(\"training has ended\")\n",
    "gc.collect()"
   ]
  },
  {
   "cell_type": "code",
   "execution_count": 16,
   "metadata": {},
   "outputs": [
    {
     "name": "stdout",
     "output_type": "stream",
     "text": [
      "Training for platform type : 2 on dataset with 30 features\n",
      "Training:  735  and validating:  245\n",
      "training LGB: \n",
      "Training until validation scores don't improve for 100 rounds\n",
      "[100]\ttraining's rmse: 430.632\tvalid_1's rmse: 695.297\n",
      "Early stopping, best iteration is:\n",
      "[50]\ttraining's rmse: 541.779\tvalid_1's rmse: 685.694\n",
      "best score defaultdict(<class 'collections.OrderedDict'>, {'training': OrderedDict([('rmse', 541.7788492096244)]), 'valid_1': OrderedDict([('rmse', 685.6944949840885)])})\n",
      "Training:  735  and validating:  245\n",
      "training LGB: \n",
      "Training until validation scores don't improve for 100 rounds\n",
      "[100]\ttraining's rmse: 449.623\tvalid_1's rmse: 654.814\n",
      "Early stopping, best iteration is:\n",
      "[73]\ttraining's rmse: 503.824\tvalid_1's rmse: 639.031\n",
      "best score defaultdict(<class 'collections.OrderedDict'>, {'training': OrderedDict([('rmse', 503.8244941108241)]), 'valid_1': OrderedDict([('rmse', 639.0306777644778)])})\n",
      "Training:  735  and validating:  245\n",
      "training LGB: \n",
      "Training until validation scores don't improve for 100 rounds\n",
      "[100]\ttraining's rmse: 419.446\tvalid_1's rmse: 715.502\n",
      "Early stopping, best iteration is:\n",
      "[41]\ttraining's rmse: 566.356\tvalid_1's rmse: 703.73\n",
      "best score defaultdict(<class 'collections.OrderedDict'>, {'training': OrderedDict([('rmse', 566.3560273909743)]), 'valid_1': OrderedDict([('rmse', 703.730475122482)])})\n",
      "Training:  735  and validating:  245\n",
      "training LGB: \n",
      "Training until validation scores don't improve for 100 rounds\n",
      "[100]\ttraining's rmse: 416.862\tvalid_1's rmse: 769.502\n",
      "Early stopping, best iteration is:\n",
      "[52]\ttraining's rmse: 517.256\tvalid_1's rmse: 749.295\n",
      "best score defaultdict(<class 'collections.OrderedDict'>, {'training': OrderedDict([('rmse', 517.2559483853078)]), 'valid_1': OrderedDict([('rmse', 749.2951607268474)])})\n",
      "training has ended\n"
     ]
    },
    {
     "data": {
      "text/plain": [
       "0"
      ]
     },
     "execution_count": 16,
     "metadata": {},
     "output_type": "execute_result"
    }
   ],
   "source": [
    "\"\"\"\n",
    "Training will be done per platform type\n",
    "\"\"\"\n",
    "platform_type = 2\n",
    "models2 = []\n",
    "\n",
    "X_train, y_train = fetch_train_data_batch(df_train, platform_type)\n",
    "# y_valid_pred_total = np.zeros(X_train.shape[0])\n",
    "gc.collect()\n",
    "print(f\"Training for platform type : {platform_type} on dataset with {X_train.shape[1]} features\")\n",
    "\n",
    "cat_features = [X_train.columns.get_loc(cat_col) for cat_col in category_cols]\n",
    "kfcv = KFold(n_splits=4)\n",
    "\n",
    "for train_idx, val_idx in kfcv.split(X_train):\n",
    "    train_data = X_train.iloc[train_idx], y_train[train_idx]\n",
    "    val_data = X_train.iloc[val_idx], y_train[val_idx]\n",
    "    print(\"Training: \", len(train_idx), \" and validating: \", len(val_idx))\n",
    "    model = fit_lgbm(train_data,val_data,cat_features=category_cols,num_rounds=1000,lr=0.05,bf=0.7)\n",
    "    models2.append(model)\n",
    "    gc.collect()\n",
    "print(\"training has ended\")\n",
    "gc.collect()"
   ]
  },
  {
   "cell_type": "code",
   "execution_count": 17,
   "metadata": {},
   "outputs": [
    {
     "name": "stdout",
     "output_type": "stream",
     "text": [
      "Training for platform type : 3 on dataset with 30 features\n",
      "Training:  13540  and validating:  4514\n",
      "training LGB: \n",
      "Training until validation scores don't improve for 100 rounds\n",
      "[100]\ttraining's rmse: 693.481\tvalid_1's rmse: 735.449\n",
      "[200]\ttraining's rmse: 644.666\tvalid_1's rmse: 730.377\n",
      "[300]\ttraining's rmse: 607.522\tvalid_1's rmse: 730.594\n",
      "[400]\ttraining's rmse: 576.788\tvalid_1's rmse: 731.147\n",
      "Early stopping, best iteration is:\n",
      "[338]\ttraining's rmse: 595.724\tvalid_1's rmse: 729.616\n",
      "best score defaultdict(<class 'collections.OrderedDict'>, {'training': OrderedDict([('rmse', 595.7241331292045)]), 'valid_1': OrderedDict([('rmse', 729.6159227305819)])})\n",
      "Training:  13540  and validating:  4514\n",
      "training LGB: \n",
      "Training until validation scores don't improve for 100 rounds\n",
      "[100]\ttraining's rmse: 688.157\tvalid_1's rmse: 757.704\n",
      "[200]\ttraining's rmse: 641.048\tvalid_1's rmse: 755.612\n",
      "Early stopping, best iteration is:\n",
      "[175]\ttraining's rmse: 651.488\tvalid_1's rmse: 754.658\n",
      "best score defaultdict(<class 'collections.OrderedDict'>, {'training': OrderedDict([('rmse', 651.4876843873485)]), 'valid_1': OrderedDict([('rmse', 754.6581603451402)])})\n",
      "Training:  13541  and validating:  4513\n",
      "training LGB: \n",
      "Training until validation scores don't improve for 100 rounds\n",
      "[100]\ttraining's rmse: 694.937\tvalid_1's rmse: 735.217\n",
      "[200]\ttraining's rmse: 648.191\tvalid_1's rmse: 735.109\n",
      "Early stopping, best iteration is:\n",
      "[139]\ttraining's rmse: 674.273\tvalid_1's rmse: 734.374\n",
      "best score defaultdict(<class 'collections.OrderedDict'>, {'training': OrderedDict([('rmse', 674.2728398188628)]), 'valid_1': OrderedDict([('rmse', 734.3740410401997)])})\n",
      "Training:  13541  and validating:  4513\n",
      "training LGB: \n",
      "Training until validation scores don't improve for 100 rounds\n",
      "[100]\ttraining's rmse: 680.411\tvalid_1's rmse: 775.618\n",
      "[200]\ttraining's rmse: 634.351\tvalid_1's rmse: 774.046\n",
      "Early stopping, best iteration is:\n",
      "[199]\ttraining's rmse: 634.768\tvalid_1's rmse: 774.008\n",
      "best score defaultdict(<class 'collections.OrderedDict'>, {'training': OrderedDict([('rmse', 634.768235887485)]), 'valid_1': OrderedDict([('rmse', 774.0075596438891)])})\n",
      "training has ended\n"
     ]
    },
    {
     "data": {
      "text/plain": [
       "0"
      ]
     },
     "execution_count": 17,
     "metadata": {},
     "output_type": "execute_result"
    }
   ],
   "source": [
    "\"\"\"\n",
    "Training will be done per platform type\n",
    "\"\"\"\n",
    "platform_type = 3\n",
    "models3 = []\n",
    "\n",
    "X_train, y_train = fetch_train_data_batch(df_train, platform_type)\n",
    "# y_valid_pred_total = np.zeros(X_train.shape[0])\n",
    "gc.collect()\n",
    "print(f\"Training for platform type : {platform_type} on dataset with {X_train.shape[1]} features\")\n",
    "\n",
    "cat_features = [X_train.columns.get_loc(cat_col) for cat_col in category_cols]\n",
    "kfcv = KFold(n_splits=4)\n",
    "\n",
    "for train_idx, val_idx in kfcv.split(X_train):\n",
    "    train_data = X_train.iloc[train_idx], y_train[train_idx]\n",
    "    val_data = X_train.iloc[val_idx], y_train[val_idx]\n",
    "    print(\"Training: \", len(train_idx), \" and validating: \", len(val_idx))\n",
    "    model = fit_lgbm(train_data,val_data,cat_features=category_cols,num_rounds=1000,lr=0.05,bf=0.7)\n",
    "    models3.append(model)\n",
    "    gc.collect()\n",
    "print(\"training has ended\")\n",
    "gc.collect()"
   ]
  },
  {
   "cell_type": "code",
   "execution_count": 18,
   "metadata": {},
   "outputs": [
    {
     "name": "stdout",
     "output_type": "stream",
     "text": [
      "Training for platform type : 4 on dataset with 30 features\n",
      "Training:  15  and validating:  5\n",
      "training LGB: \n",
      "Training until validation scores don't improve for 100 rounds\n",
      "[100]\ttraining's rmse: 1938.37\tvalid_1's rmse: 2298.98\n",
      "Early stopping, best iteration is:\n",
      "[1]\ttraining's rmse: 1938.37\tvalid_1's rmse: 2298.98\n",
      "best score defaultdict(<class 'collections.OrderedDict'>, {'training': OrderedDict([('rmse', 1938.374525214361)]), 'valid_1': OrderedDict([('rmse', 2298.982230852987)])})\n",
      "Training:  15  and validating:  5\n",
      "training LGB: \n",
      "Training until validation scores don't improve for 100 rounds\n",
      "[100]\ttraining's rmse: 2043.84\tvalid_1's rmse: 2365.46\n",
      "Early stopping, best iteration is:\n",
      "[1]\ttraining's rmse: 2043.84\tvalid_1's rmse: 2365.46\n",
      "best score defaultdict(<class 'collections.OrderedDict'>, {'training': OrderedDict([('rmse', 2043.8388227385576)]), 'valid_1': OrderedDict([('rmse', 2365.464334966816)])})\n",
      "Training:  15  and validating:  5\n",
      "training LGB: \n",
      "Training until validation scores don't improve for 100 rounds\n",
      "[100]\ttraining's rmse: 1988.65\tvalid_1's rmse: 2235.37\n",
      "Early stopping, best iteration is:\n",
      "[1]\ttraining's rmse: 1988.65\tvalid_1's rmse: 2235.37\n",
      "best score defaultdict(<class 'collections.OrderedDict'>, {'training': OrderedDict([('rmse', 1988.6458541764882)]), 'valid_1': OrderedDict([('rmse', 2235.370225364122)])})\n",
      "Training:  15  and validating:  5\n",
      "training LGB: \n",
      "Training until validation scores don't improve for 100 rounds\n",
      "[100]\ttraining's rmse: 1646.2\tvalid_1's rmse: 582.792\n",
      "Early stopping, best iteration is:\n",
      "[1]\ttraining's rmse: 1646.2\tvalid_1's rmse: 582.792\n",
      "best score defaultdict(<class 'collections.OrderedDict'>, {'training': OrderedDict([('rmse', 1646.1971125394834)]), 'valid_1': OrderedDict([('rmse', 582.792133707303)])})\n",
      "training has ended\n"
     ]
    },
    {
     "data": {
      "text/plain": [
       "0"
      ]
     },
     "execution_count": 18,
     "metadata": {},
     "output_type": "execute_result"
    }
   ],
   "source": [
    "\"\"\"\n",
    "Training will be done per platform type\n",
    "\"\"\"\n",
    "platform_type = 4\n",
    "models4 = []\n",
    "\n",
    "X_train, y_train = fetch_train_data_batch(df_train, platform_type)\n",
    "# y_valid_pred_total = np.zeros(X_train.shape[0])\n",
    "gc.collect()\n",
    "print(f\"Training for platform type : {platform_type} on dataset with {X_train.shape[1]} features\")\n",
    "\n",
    "cat_features = [X_train.columns.get_loc(cat_col) for cat_col in category_cols]\n",
    "kfcv = KFold(n_splits=4)\n",
    "\n",
    "for train_idx, val_idx in kfcv.split(X_train):\n",
    "    train_data = X_train.iloc[train_idx], y_train[train_idx]\n",
    "    val_data = X_train.iloc[val_idx], y_train[val_idx]\n",
    "    print(\"Training: \", len(train_idx), \" and validating: \", len(val_idx))\n",
    "    model = fit_lgbm(train_data,val_data,cat_features=category_cols,num_rounds=1000,lr=0.05,bf=1)\n",
    "    models4.append(model)\n",
    "    gc.collect()\n",
    "print(\"training has ended\")\n",
    "gc.collect()"
   ]
  },
  {
   "cell_type": "code",
   "execution_count": 19,
   "metadata": {},
   "outputs": [
    {
     "data": {
      "text/plain": [
       "<matplotlib.axes._subplots.AxesSubplot at 0x127ac4acc48>"
      ]
     },
     "execution_count": 19,
     "metadata": {},
     "output_type": "execute_result"
    },
    {
     "data": {
      "image/png": "[encoded data removed]",
      "text/plain": [
       "<Figure size 432x288 with 1 Axes>"
      ]
     },
     "metadata": {
      "needs_background": "light"
     },
     "output_type": "display_data"
    }
   ],
   "source": [
    "lgb.plot_importance(models1[1])"
   ]
  },
  {
   "cell_type": "code",
   "execution_count": 20,
   "metadata": {},
   "outputs": [
    {
     "data": {
      "text/plain": [
       "<matplotlib.axes._subplots.AxesSubplot at 0x127ac7d5cc8>"
      ]
     },
     "execution_count": 20,
     "metadata": {},
     "output_type": "execute_result"
    },
    {
     "data": {
      "image/png": "[encoded data removed]",
      "text/plain": [
       "<Figure size 432x288 with 1 Axes>"
      ]
     },
     "metadata": {
      "needs_background": "light"
     },
     "output_type": "display_data"
    }
   ],
   "source": [
    "lgb.plot_importance(models1[2])"
   ]
  },
  {
   "cell_type": "code",
   "execution_count": 21,
   "metadata": {},
   "outputs": [
    {
     "data": {
      "text/plain": [
       "<matplotlib.axes._subplots.AxesSubplot at 0x127ace58c88>"
      ]
     },
     "execution_count": 21,
     "metadata": {},
     "output_type": "execute_result"
    },
    {
     "data": {
      "image/png": "[encoded data removed]",
      "text/plain": [
       "<Figure size 432x288 with 1 Axes>"
      ]
     },
     "metadata": {
      "needs_background": "light"
     },
     "output_type": "display_data"
    }
   ],
   "source": [
    "lgb.plot_importance(models1[3])"
   ]
  },
  {
   "cell_type": "code",
   "execution_count": 22,
   "metadata": {},
   "outputs": [
    {
     "data": {
      "text/plain": [
       "<matplotlib.axes._subplots.AxesSubplot at 0x127ad743c08>"
      ]
     },
     "execution_count": 22,
     "metadata": {},
     "output_type": "execute_result"
    },
    {
     "data": {
      "image/png": "[encoded data removed]",
      "text/plain": [
       "<Figure size 432x288 with 1 Axes>"
      ]
     },
     "metadata": {
      "needs_background": "light"
     },
     "output_type": "display_data"
    }
   ],
   "source": [
    "lgb.plot_importance(models1[0])"
   ]
  },
  {
   "cell_type": "code",
   "execution_count": 23,
   "metadata": {},
   "outputs": [],
   "source": [
    "lgb_models_v = [models1, models2, models3, models4]\n",
    "# pickle.dump(lgb_models_v, open(f'../output/models/lgb_models_v{runtime}.pkl', 'wb'))"
   ]
  },
  {
   "cell_type": "markdown",
   "metadata": {},
   "source": [
    "### Make Predictions For VALIDATION SET\n",
    "\n",
    "Save the index, order no and platform type in order to preserve the order but exclude it from the training features.\n",
    "The result outputs a file in the output/predictions folder. The file contains the index (yep, I love preserving order), the order no, platform type and predictions"
   ]
  },
  {
   "cell_type": "code",
   "execution_count": 24,
   "metadata": {},
   "outputs": [],
   "source": [
    "def make_predictions(X_pred, models):\n",
    "    X_pred_idx = X_pred['Unnamed: 0'] # returning the row_id in order to preserve order\n",
    "    X_pred_order_no = X_pred['Order No']\n",
    "    X_pred_platform_type = X_pred['Platform Type']\n",
    "    X_pred = X_pred.drop(['Order No','Unnamed: 0','Platform Type','Time from Pickup to Arrival'], axis='columns')\n",
    "    preds_arr = []\n",
    "    final_predictions_total = np.zeros(X_pred.shape[0])\n",
    "    for i in range(len(models)):\n",
    "        print(f\"Making predictions for model {i} on dataset with {X_pred.shape[1]} features\")\n",
    "        estimator = models[i]\n",
    "        predictions = estimator.predict(X_pred, num_iteration=estimator.best_iteration)\n",
    "        final_predictions_total += predictions\n",
    "    # Now we are done with the predictions, we'll take the average of the predictions\n",
    "    final_predictions_total /= len(models)\n",
    "    final_predictions_total = final_predictions_total\n",
    "    return X_pred_idx, X_pred_order_no, X_pred_platform_type, final_predictions_total"
   ]
  },
  {
   "cell_type": "code",
   "execution_count": 25,
   "metadata": {},
   "outputs": [
    {
     "data": {
      "text/plain": [
       "75"
      ]
     },
     "execution_count": 25,
     "metadata": {},
     "output_type": "execute_result"
    }
   ],
   "source": [
    "all_row_ids = []\n",
    "all_row_order_no = []\n",
    "all_predictions = []\n",
    "all_platforms = []\n",
    "\n",
    "gc.collect()"
   ]
  },
  {
   "cell_type": "code",
   "execution_count": 26,
   "metadata": {},
   "outputs": [
    {
     "name": "stdout",
     "output_type": "stream",
     "text": [
      "Starting predictions for Platform type 1\n",
      "Making predictions for model 0 on dataset with 30 features\n",
      "Making predictions for model 1 on dataset with 30 features\n",
      "Making predictions for model 2 on dataset with 30 features\n",
      "Making predictions for model 3 on dataset with 30 features\n",
      "Appending predictions...\n",
      "Finished predictions for 1\n",
      "Starting predictions for Platform type 2\n",
      "Making predictions for model 0 on dataset with 30 features\n",
      "Making predictions for model 1 on dataset with 30 features\n",
      "Making predictions for model 2 on dataset with 30 features\n",
      "Making predictions for model 3 on dataset with 30 features\n",
      "Appending predictions...\n",
      "Finished predictions for 2\n",
      "Starting predictions for Platform type 3\n",
      "Making predictions for model 0 on dataset with 30 features\n",
      "Making predictions for model 1 on dataset with 30 features\n",
      "Making predictions for model 2 on dataset with 30 features\n",
      "Making predictions for model 3 on dataset with 30 features\n",
      "Appending predictions...\n",
      "Finished predictions for 3\n",
      "Starting predictions for Platform type 4\n",
      "Making predictions for model 0 on dataset with 30 features\n",
      "Making predictions for model 1 on dataset with 30 features\n",
      "Making predictions for model 2 on dataset with 30 features\n",
      "Making predictions for model 3 on dataset with 30 features\n",
      "Appending predictions...\n",
      "Finished predictions for 4\n"
     ]
    }
   ],
   "source": [
    "for i in [1, 2, 3, 4]:\n",
    "    platform_type = i\n",
    "    use_model = lgb_models_v[i - 1]\n",
    "\n",
    "    X_valid = fetch_test_data_batch(df_train, platform_type)\n",
    "    print(f\"Starting predictions for Platform type {platform_type}\")\n",
    "    y_valid_id, y_valid_order_no, y_platform, y_valid = make_predictions(X_valid, use_model)\n",
    "    \n",
    "    print(f\"Appending predictions...\")\n",
    "    all_row_ids.append(y_valid_id)\n",
    "    all_row_order_no.append(y_valid_order_no)\n",
    "    all_platforms.append(y_platform)\n",
    "    all_predictions.append(y_valid)\n",
    "    print(f\"Finished predictions for {platform_type}\")"
   ]
  },
  {
   "cell_type": "code",
   "execution_count": 27,
   "metadata": {},
   "outputs": [],
   "source": [
    "all_row_ids_flat = [ids for sublist in all_row_ids for ids in sublist]\n",
    "all_row_order_no_flat = [orderno for ordersublist in all_row_order_no for orderno in ordersublist]\n",
    "all_platforms_flat = [platformtype for platformsublist in all_platforms for platformtype in platformsublist]\n",
    "all_predictions_flat = [preds for predsublist in all_predictions for preds in predsublist]"
   ]
  },
  {
   "cell_type": "code",
   "execution_count": 28,
   "metadata": {},
   "outputs": [],
   "source": [
    "model_preds = pd.DataFrame({})\n",
    "model_preds['Index col'] = all_row_ids_flat\n",
    "model_preds['Order No'] = all_row_order_no_flat\n",
    "model_preds['Platform Type'] = all_platforms_flat\n",
    "model_preds['Time from Pickup to Arrival'] = all_predictions_flat\n",
    "\n",
    "model_preds = model_preds.sort_values(by=['Index col'])"
   ]
  },
  {
   "cell_type": "code",
   "execution_count": 29,
   "metadata": {},
   "outputs": [
    {
     "data": {
      "text/html": [
       "<div>\n",
       "<style scoped>\n",
       "    .dataframe tbody tr th:only-of-type {\n",
       "        vertical-align: middle;\n",
       "    }\n",
       "\n",
       "    .dataframe tbody tr th {\n",
       "        vertical-align: top;\n",
       "    }\n",
       "\n",
       "    .dataframe thead th {\n",
       "        text-align: right;\n",
       "    }\n",
       "</style>\n",
       "<table border=\"1\" class=\"dataframe\">\n",
       "  <thead>\n",
       "    <tr style=\"text-align: right;\">\n",
       "      <th></th>\n",
       "      <th>Index col</th>\n",
       "      <th>Order No</th>\n",
       "      <th>Platform Type</th>\n",
       "      <th>Time from Pickup to Arrival</th>\n",
       "    </tr>\n",
       "  </thead>\n",
       "  <tbody>\n",
       "    <tr>\n",
       "      <td>3127</td>\n",
       "      <td>0</td>\n",
       "      <td>Order_No_4211</td>\n",
       "      <td>3</td>\n",
       "      <td>753.495279</td>\n",
       "    </tr>\n",
       "    <tr>\n",
       "      <td>3128</td>\n",
       "      <td>1</td>\n",
       "      <td>Order_No_27440</td>\n",
       "      <td>3</td>\n",
       "      <td>2512.478321</td>\n",
       "    </tr>\n",
       "    <tr>\n",
       "      <td>3129</td>\n",
       "      <td>2</td>\n",
       "      <td>Order_No_14170</td>\n",
       "      <td>3</td>\n",
       "      <td>1454.861849</td>\n",
       "    </tr>\n",
       "    <tr>\n",
       "      <td>3130</td>\n",
       "      <td>3</td>\n",
       "      <td>Order_No_21727</td>\n",
       "      <td>3</td>\n",
       "      <td>2261.259943</td>\n",
       "    </tr>\n",
       "    <tr>\n",
       "      <td>2147</td>\n",
       "      <td>4</td>\n",
       "      <td>Order_No_8301</td>\n",
       "      <td>2</td>\n",
       "      <td>1579.827864</td>\n",
       "    </tr>\n",
       "    <tr>\n",
       "      <td>3131</td>\n",
       "      <td>5</td>\n",
       "      <td>Order_No_10440</td>\n",
       "      <td>3</td>\n",
       "      <td>2848.782363</td>\n",
       "    </tr>\n",
       "    <tr>\n",
       "      <td>0</td>\n",
       "      <td>6</td>\n",
       "      <td>Order_No_25321</td>\n",
       "      <td>1</td>\n",
       "      <td>1331.050951</td>\n",
       "    </tr>\n",
       "    <tr>\n",
       "      <td>1</td>\n",
       "      <td>7</td>\n",
       "      <td>Order_No_2476</td>\n",
       "      <td>1</td>\n",
       "      <td>1448.827820</td>\n",
       "    </tr>\n",
       "    <tr>\n",
       "      <td>2</td>\n",
       "      <td>8</td>\n",
       "      <td>Order_No_14704</td>\n",
       "      <td>1</td>\n",
       "      <td>1808.498113</td>\n",
       "    </tr>\n",
       "    <tr>\n",
       "      <td>3132</td>\n",
       "      <td>9</td>\n",
       "      <td>Order_No_118</td>\n",
       "      <td>3</td>\n",
       "      <td>1948.241624</td>\n",
       "    </tr>\n",
       "  </tbody>\n",
       "</table>\n",
       "</div>"
      ],
      "text/plain": [
       "      Index col        Order No  Platform Type  Time from Pickup to Arrival\n",
       "3127          0   Order_No_4211              3                   753.495279\n",
       "3128          1  Order_No_27440              3                  2512.478321\n",
       "3129          2  Order_No_14170              3                  1454.861849\n",
       "3130          3  Order_No_21727              3                  2261.259943\n",
       "2147          4   Order_No_8301              2                  1579.827864\n",
       "3131          5  Order_No_10440              3                  2848.782363\n",
       "0             6  Order_No_25321              1                  1331.050951\n",
       "1             7   Order_No_2476              1                  1448.827820\n",
       "2             8  Order_No_14704              1                  1808.498113\n",
       "3132          9    Order_No_118              3                  1948.241624"
      ]
     },
     "execution_count": 29,
     "metadata": {},
     "output_type": "execute_result"
    }
   ],
   "source": [
    "model_preds.head(10)"
   ]
  },
  {
   "cell_type": "code",
   "execution_count": 30,
   "metadata": {},
   "outputs": [
    {
     "data": {
      "text/plain": [
       "20"
      ]
     },
     "execution_count": 30,
     "metadata": {},
     "output_type": "execute_result"
    }
   ],
   "source": [
    "filename = f\"lgb_output_train_{runtime}.csv\"\n",
    "# model_preds.to_csv(f\"../output/predictions/{filename}\", index=False)\n",
    "gc.collect()"
   ]
  },
  {
   "cell_type": "code",
   "execution_count": 31,
   "metadata": {},
   "outputs": [
    {
     "name": "stdout",
     "output_type": "stream",
     "text": [
      "Model produces a rmse of 647.1612620269318\n"
     ]
    }
   ],
   "source": [
    "from sklearn.metrics import mean_squared_error as mse\n",
    "\n",
    "err_ = mse(df_train['Time from Pickup to Arrival'], model_preds['Time from Pickup to Arrival'])\n",
    "print(f\"Model produces a rmse of {np.sqrt(err_)}\")\n",
    "\n",
    "# error = 650.6620174\n",
    "# error = 690.6855076120686\n",
    "# with angle = 637.006149, it performs better without the precipitation of 643.0018837\n",
    "# with speed and velocity added: 647.161"
   ]
  },
  {
   "cell_type": "markdown",
   "metadata": {},
   "source": [
    "### Make Predictions For TEST SET"
   ]
  },
  {
   "cell_type": "code",
   "execution_count": 32,
   "metadata": {},
   "outputs": [
    {
     "data": {
      "text/plain": [
       "40"
      ]
     },
     "execution_count": 32,
     "metadata": {},
     "output_type": "execute_result"
    }
   ],
   "source": [
    "all_row_ids = []\n",
    "all_row_order_no = []\n",
    "all_predictions = []\n",
    "all_platforms = []\n",
    "\n",
    "gc.collect()"
   ]
  },
  {
   "cell_type": "code",
   "execution_count": 33,
   "metadata": {},
   "outputs": [
    {
     "name": "stdout",
     "output_type": "stream",
     "text": [
      "Starting predictions for Platform type 1\n",
      "Making predictions for model 0 on dataset with 30 features\n",
      "Making predictions for model 1 on dataset with 30 features\n",
      "Making predictions for model 2 on dataset with 30 features\n",
      "Making predictions for model 3 on dataset with 30 features\n",
      "Appending predictions...\n",
      "Finished predictions for 1\n",
      "Starting predictions for Platform type 2\n",
      "Making predictions for model 0 on dataset with 30 features\n",
      "Making predictions for model 1 on dataset with 30 features\n",
      "Making predictions for model 2 on dataset with 30 features\n",
      "Making predictions for model 3 on dataset with 30 features\n",
      "Appending predictions...\n",
      "Finished predictions for 2\n",
      "Starting predictions for Platform type 3\n",
      "Making predictions for model 0 on dataset with 30 features\n",
      "Making predictions for model 1 on dataset with 30 features\n",
      "Making predictions for model 2 on dataset with 30 features\n",
      "Making predictions for model 3 on dataset with 30 features\n",
      "Appending predictions...\n",
      "Finished predictions for 3\n",
      "Starting predictions for Platform type 4\n",
      "Making predictions for model 0 on dataset with 30 features\n",
      "Making predictions for model 1 on dataset with 30 features\n",
      "Making predictions for model 2 on dataset with 30 features\n",
      "Making predictions for model 3 on dataset with 30 features\n",
      "Appending predictions...\n",
      "Finished predictions for 4\n"
     ]
    }
   ],
   "source": [
    "for i in [1, 2, 3, 4]:\n",
    "    platform_type = i\n",
    "    use_model = lgb_models_v[i - 1] # use the appropriate model for each platform type\n",
    "\n",
    "    X_test = fetch_test_data_batch(df_test, platform_type)\n",
    "    print(f\"Starting predictions for Platform type {platform_type}\")\n",
    "    y_test_id, y_test_order_no, y_platform, y_test = make_predictions(X_test, use_model)\n",
    "    \n",
    "    print(f\"Appending predictions...\")\n",
    "    all_row_ids.append(y_test_id)\n",
    "    all_row_order_no.append(y_test_order_no)\n",
    "    all_platforms.append(y_platform)\n",
    "    all_predictions.append(y_test)\n",
    "    print(f\"Finished predictions for {platform_type}\")"
   ]
  },
  {
   "cell_type": "code",
   "execution_count": 34,
   "metadata": {},
   "outputs": [],
   "source": [
    "all_row_ids_flat = [ids for sublist in all_row_ids for ids in sublist]\n",
    "all_row_order_no_flat = [orderno for ordersublist in all_row_order_no for orderno in ordersublist]\n",
    "all_platforms_flat = [platformtype for platformsublist in all_platforms for platformtype in platformsublist]\n",
    "all_predictions_flat = [preds for predsublist in all_predictions for preds in predsublist]"
   ]
  },
  {
   "cell_type": "code",
   "execution_count": 35,
   "metadata": {},
   "outputs": [],
   "source": [
    "model_preds = pd.DataFrame({})\n",
    "model_preds['Index col'] = all_row_ids_flat\n",
    "model_preds['Order No'] = all_row_order_no_flat\n",
    "model_preds['Platform Type'] = all_platforms_flat\n",
    "model_preds['Time from Pickup to Arrival'] = all_predictions_flat\n",
    "\n",
    "model_preds = model_preds.sort_values(by=['Index col'])"
   ]
  },
  {
   "cell_type": "code",
   "execution_count": 36,
   "metadata": {},
   "outputs": [
    {
     "data": {
      "text/html": [
       "<div>\n",
       "<style scoped>\n",
       "    .dataframe tbody tr th:only-of-type {\n",
       "        vertical-align: middle;\n",
       "    }\n",
       "\n",
       "    .dataframe tbody tr th {\n",
       "        vertical-align: top;\n",
       "    }\n",
       "\n",
       "    .dataframe thead th {\n",
       "        text-align: right;\n",
       "    }\n",
       "</style>\n",
       "<table border=\"1\" class=\"dataframe\">\n",
       "  <thead>\n",
       "    <tr style=\"text-align: right;\">\n",
       "      <th></th>\n",
       "      <th>Index col</th>\n",
       "      <th>Order No</th>\n",
       "      <th>Platform Type</th>\n",
       "      <th>Time from Pickup to Arrival</th>\n",
       "    </tr>\n",
       "  </thead>\n",
       "  <tbody>\n",
       "    <tr>\n",
       "      <td>1047</td>\n",
       "      <td>0</td>\n",
       "      <td>Order_No_19248</td>\n",
       "      <td>3</td>\n",
       "      <td>1732.049436</td>\n",
       "    </tr>\n",
       "    <tr>\n",
       "      <td>0</td>\n",
       "      <td>1</td>\n",
       "      <td>Order_No_2699</td>\n",
       "      <td>1</td>\n",
       "      <td>2673.987098</td>\n",
       "    </tr>\n",
       "    <tr>\n",
       "      <td>1048</td>\n",
       "      <td>2</td>\n",
       "      <td>Order_No_21486</td>\n",
       "      <td>3</td>\n",
       "      <td>1880.931101</td>\n",
       "    </tr>\n",
       "    <tr>\n",
       "      <td>1049</td>\n",
       "      <td>3</td>\n",
       "      <td>Order_No_19336</td>\n",
       "      <td>3</td>\n",
       "      <td>2125.708745</td>\n",
       "    </tr>\n",
       "    <tr>\n",
       "      <td>1050</td>\n",
       "      <td>4</td>\n",
       "      <td>Order_No_20374</td>\n",
       "      <td>3</td>\n",
       "      <td>2467.197029</td>\n",
       "    </tr>\n",
       "    <tr>\n",
       "      <td>1051</td>\n",
       "      <td>5</td>\n",
       "      <td>Order_No_9830</td>\n",
       "      <td>3</td>\n",
       "      <td>1427.315558</td>\n",
       "    </tr>\n",
       "    <tr>\n",
       "      <td>1</td>\n",
       "      <td>6</td>\n",
       "      <td>Order_No_17505</td>\n",
       "      <td>1</td>\n",
       "      <td>1682.273039</td>\n",
       "    </tr>\n",
       "    <tr>\n",
       "      <td>711</td>\n",
       "      <td>7</td>\n",
       "      <td>Order_No_23802</td>\n",
       "      <td>2</td>\n",
       "      <td>2455.780272</td>\n",
       "    </tr>\n",
       "    <tr>\n",
       "      <td>1052</td>\n",
       "      <td>8</td>\n",
       "      <td>Order_No_12736</td>\n",
       "      <td>3</td>\n",
       "      <td>1658.941971</td>\n",
       "    </tr>\n",
       "    <tr>\n",
       "      <td>1053</td>\n",
       "      <td>9</td>\n",
       "      <td>Order_No_6400</td>\n",
       "      <td>3</td>\n",
       "      <td>2186.256437</td>\n",
       "    </tr>\n",
       "  </tbody>\n",
       "</table>\n",
       "</div>"
      ],
      "text/plain": [
       "      Index col        Order No  Platform Type  Time from Pickup to Arrival\n",
       "1047          0  Order_No_19248              3                  1732.049436\n",
       "0             1   Order_No_2699              1                  2673.987098\n",
       "1048          2  Order_No_21486              3                  1880.931101\n",
       "1049          3  Order_No_19336              3                  2125.708745\n",
       "1050          4  Order_No_20374              3                  2467.197029\n",
       "1051          5   Order_No_9830              3                  1427.315558\n",
       "1             6  Order_No_17505              1                  1682.273039\n",
       "711           7  Order_No_23802              2                  2455.780272\n",
       "1052          8  Order_No_12736              3                  1658.941971\n",
       "1053          9   Order_No_6400              3                  2186.256437"
      ]
     },
     "execution_count": 36,
     "metadata": {},
     "output_type": "execute_result"
    }
   ],
   "source": [
    "model_preds.head(10)"
   ]
  },
  {
   "cell_type": "code",
   "execution_count": 37,
   "metadata": {},
   "outputs": [
    {
     "name": "stdout",
     "output_type": "stream",
     "text": [
      "file saved in output > predictions > *** as lgb_output_test_16.csv\n"
     ]
    },
    {
     "data": {
      "text/plain": [
       "236"
      ]
     },
     "execution_count": 37,
     "metadata": {},
     "output_type": "execute_result"
    }
   ],
   "source": [
    "filename = f\"lgb_output_test_{runtime}.csv\"\n",
    "# model_preds.to_csv(f\"../output/predictions/{filename}\", index=False)\n",
    "print(f\"file saved in output > predictions > *** as {filename}\")\n",
    "gc.collect()"
   ]
  },
  {
   "cell_type": "code",
   "execution_count": null,
   "metadata": {},
   "outputs": [],
   "source": []
  }
 ],
 "metadata": {
  "kernelspec": {
   "display_name": "Python 3",
   "language": "python",
   "name": "python3"
  },
  "language_info": {
   "codemirror_mode": {
    "name": "ipython",
    "version": 3
   },
   "file_extension": ".py",
   "mimetype": "text/x-python",
   "name": "python",
   "nbconvert_exporter": "python",
   "pygments_lexer": "ipython3",
   "version": "3.7.3"
  }
 },
 "nbformat": 4,
 "nbformat_minor": 2
}
